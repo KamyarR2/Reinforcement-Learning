{
  "cells": [
    {
      "cell_type": "code",
      "execution_count": 6,
      "metadata": {
        "colab": {
          "base_uri": "https://localhost:8080/"
        },
        "id": "WsPkEzTZqBrl",
        "outputId": "0e8c5a80-c848-4c0c-ab4d-edc0508bec9e"
      },
      "outputs": [],
      "source": [
        "!pip install gymnasium"
      ]
    },
    {
      "cell_type": "code",
      "execution_count": 7,
      "metadata": {
        "id": "RVr8sr1pfQ7k"
      },
      "outputs": [],
      "source": [
        "import gymnasium as gym\n",
        "import numpy as np\n",
        "from gymnasium import spaces\n",
        "import random\n",
        "import plotly.express as px\n",
        "import plotly.graph_objects as go\n",
        "import plotly.io as pio\n",
        "import seaborn as sns\n",
        "import matplotlib.pyplot as plt\n",
        "import itertools"
      ]
    },
    {
      "cell_type": "code",
      "execution_count": 8,
      "metadata": {
        "id": "DTDa5zU8vEkQ"
      },
      "outputs": [],
      "source": [
        "SEED = 422\n",
        "LEFT = 0\n",
        "DOWN = 1\n",
        "RIGHT = 2\n",
        "UP = 3\n",
        "X = 0\n",
        "Y = 1\n",
        "NO_RUNS = 10\n",
        "ACTIONS_NAMES = ['↓', '→','↑', '←']\n",
        "\n",
        "ACTION_SPACE = [LEFT, DOWN, RIGHT, UP]\n",
        "# Plot configs\n",
        "P_LAYOUT = go.Layout(\n",
        "    autosize = False,\n",
        "    width = 1000,\n",
        "    height = 600,\n",
        "    margin = go.layout.Margin(l=50, r=50, b=50, t=100, pad=10),\n",
        ")"
      ]
    },
    {
      "cell_type": "code",
      "execution_count": 9,
      "metadata": {
        "id": "ZRRSRD91oEkR"
      },
      "outputs": [],
      "source": [
        "import numpy as np\n",
        "import pygame\n",
        "\n",
        "import gymnasium as gym\n",
        "from gymnasium import spaces\n",
        "import random\n",
        "\n",
        "\n",
        "class GridWorldEnv(gym.Env):\n",
        "    metadata = {\"render_modes\": [\"human\", \"rgb_array\"], \"render_fps\": 24}\n",
        "\n",
        "    def __init__(self, render_mode=None, size=5):\n",
        "        self.size = size  # The size of the square grid\n",
        "        self.window_size = 512  # The size of the PyGame window\n",
        "\n",
        "        # We have 4 actions, corresponding to \"right\", \"up\", \"left\", \"down\"\n",
        "        self.action_space = spaces.Discrete(4)\n",
        "\n",
        "        \"\"\"\n",
        "        The following dictionary maps abstract actions from `self.action_space` to\n",
        "        the direction we will walk in if that action is taken.\n",
        "        I.e. 0 corresponds to \"right\", 1 to \"up\" etc.\n",
        "        \"\"\"\n",
        "        self._action_to_direction = {\n",
        "            0: np.array([1, 0]),\n",
        "            1: np.array([0, 1]),\n",
        "            2: np.array([-1, 0]),\n",
        "            3: np.array([0, -1]),\n",
        "        }\n",
        "\n",
        "        assert render_mode is None or render_mode in self.metadata[\"render_modes\"]\n",
        "        self.render_mode = render_mode\n",
        "\n",
        "        self.window = None\n",
        "        self.clock = None\n",
        "    def _get_obs(self):\n",
        "        return {\"agent\": self._agent_location, \"target\": self._target_location, \"obstacle\": np.array(self.tree)}\n",
        "\n",
        "\n",
        "\n",
        "    def _get_info(self):\n",
        "        return {\n",
        "            \"distance\": np.linalg.norm(\n",
        "                self._agent_location - self._target_location, ord=1\n",
        "            )\n",
        "        }\n",
        "\n",
        "\n",
        "    def reset(self, seed=None, options=None):\n",
        "        # We need the following line to seed self.np_random\n",
        "        super().reset(seed=seed)\n",
        "\n",
        "        self.power = 100\n",
        "        self.health=100\n",
        "        self.agent_set = [0,1,2,6,7,12]\n",
        "        self.target_set = [23,28,29,33,34,35]\n",
        "        self._all = list(range(self.size**2))\n",
        "\n",
        "\n",
        "        self._agent_location = self.np_random.choice(self.agent_set)\n",
        "        self._target_location = self.np_random.choice(self.target_set)\n",
        "        self.target_agent = [self._agent_location,self._target_location]\n",
        "        # print(self.target_agent)\n",
        "        self.obstacle_list = [x for x in self._all if x not in self.target_agent]\n",
        "        size = self.size\n",
        "        self.border_list = []\n",
        "        # print(self.target_agent)\n",
        "        for i in range(0,size*size):\n",
        "            if(i<size):\n",
        "                self.border_list.append(i)\n",
        "            elif(i>size-1 and i<size*(size-1) and i%size==0):\n",
        "                self.border_list.append(i)\n",
        "                self.border_list.append(i+size-1)\n",
        "            elif(i>size*(size-1)-1):\n",
        "                self.border_list.append(i)\n",
        "        self.border_list =  [x for x in self.border_list if x not in self.target_agent]\n",
        "        self.not_border_list =  [x for x in self.obstacle_list if x not in self.border_list]\n",
        "        # Choose the agent's location uniformly at random\n",
        "        self._agent_location = np.array(tuple(reversed(divmod(self._agent_location,self.size))))\n",
        "        self._target_location = np.array(tuple(reversed(divmod(self._target_location,self.size))))\n",
        "\n",
        "\n",
        "        # print(self.obstacle_list)\n",
        "\n",
        "        border_tree = 0\n",
        "        self.tree = []\n",
        "        for i in range(0,8):\n",
        "            # print(i)\n",
        "            if(i<2):\n",
        "                temp_obs = self.np_random.choice(self.obstacle_list)\n",
        "                temp_obs_t = tuple(reversed(divmod(temp_obs,self.size)))\n",
        "\n",
        "                self.tree.append(temp_obs_t)\n",
        "                self.obstacle_list.remove(temp_obs)\n",
        "                if temp_obs in self.border_list:\n",
        "                    border_tree+=1\n",
        "                if temp_obs in self.border_list:\n",
        "                    self.border_list.remove(temp_obs)\n",
        "                elif temp_obs in self.not_border_list:\n",
        "                    self.not_border_list.remove(temp_obs)\n",
        "            if(i>1):\n",
        "                # print(i)\n",
        "                while True:\n",
        "                    # print(border_tree)\n",
        "                    if(border_tree==2):\n",
        "                        temp_obs = self.np_random.choice(self.not_border_list)\n",
        "                        temp_obs_t = tuple(reversed(divmod(temp_obs,self.size)))\n",
        "                        distance = abs(np.subtract(temp_obs_t,self.tree))\n",
        "                        next_to = []\n",
        "                        for j in range(0,len(distance)):\n",
        "                            if sum(distance[j])==1 and np.prod(distance[j])==0:\n",
        "                                next_to.append(j)\n",
        "                        # print(len(next_to))\n",
        "                        if(len(next_to)>1):\n",
        "                            # print(temp_obs)\n",
        "                            self.obstacle_list.remove(temp_obs)\n",
        "                            self.not_border_list.remove(temp_obs)\n",
        "\n",
        "                        elif(len(next_to)==0):\n",
        "                            # print(temp_obs_t)\n",
        "                            self.tree.append(temp_obs_t)\n",
        "                            self.obstacle_list.remove(temp_obs)\n",
        "                            self.not_border_list.remove(temp_obs)\n",
        "                            break\n",
        "\n",
        "                        elif(len(next_to)==1):\n",
        "                            distance2 = abs(np.subtract(self.tree,self.tree[next_to[0]]))\n",
        "                            # print(distance2)\n",
        "                            next_to2 = []\n",
        "\n",
        "                            for k in range(0,len(distance2)):\n",
        "\n",
        "                                if (sum(distance2[k])==1 and np.prod(distance2[k])==0):\n",
        "                                    next_to2.append(k)\n",
        "                            # print(next_to2)\n",
        "\n",
        "                            if(len(next_to2)==0):\n",
        "                                    self.tree.append(temp_obs_t)\n",
        "                                    self.obstacle_list.remove(temp_obs)\n",
        "                                    self.not_border_list.remove(temp_obs)\n",
        "                                    break\n",
        "                            else:\n",
        "                                self.obstacle_list.remove(temp_obs)\n",
        "                                self.not_border_list.remove(temp_obs)\n",
        "                    elif(border_tree<2):\n",
        "                        temp_obs = self.np_random.choice(self.obstacle_list)\n",
        "                        temp_obs_t = tuple(reversed(divmod(temp_obs,self.size)))\n",
        "                        # print(temp_obs_t)\n",
        "                        distance = abs(np.subtract(temp_obs_t,self.tree))\n",
        "                        next_to = []\n",
        "                        for j in range(0,len(distance)):\n",
        "                            if sum(distance[j])==1 and np.prod(distance[j])==0:\n",
        "                                next_to.append(j)\n",
        "\n",
        "                        if(len(next_to)>1):\n",
        "                            self.obstacle_list.remove(temp_obs)\n",
        "                            if temp_obs in self.border_list:\n",
        "                                self.border_list.remove(temp_obs)\n",
        "                            elif temp_obs in self.not_border_list:\n",
        "                                self.not_border_list.remove(temp_obs)\n",
        "                        elif(len(next_to)==0):\n",
        "                            # print(temp_obs_t)\n",
        "                            self.tree.append(temp_obs_t)\n",
        "                            self.obstacle_list.remove(temp_obs)\n",
        "                            if temp_obs in self.border_list:\n",
        "                                border_tree+=1\n",
        "                                self.border_list.remove(temp_obs)\n",
        "                            if temp_obs in self.not_border_list:\n",
        "                                self.not_border_list.remove(temp_obs)\n",
        "                            break\n",
        "\n",
        "                        elif(len(next_to)==1):\n",
        "                            distance2 = abs(np.subtract(self.tree,self.tree[next_to[0]]))\n",
        "                            next_to2 = []\n",
        "                            for m in range(0,len(distance2)):\n",
        "                                if (sum(distance2[m])==1 and np.prod(distance2[m])==0):\n",
        "                                    next_to2.append(m)\n",
        "\n",
        "                            if(len(next_to2)==0):\n",
        "                                    self.tree.append(temp_obs_t)\n",
        "                                    self.obstacle_list.remove(temp_obs)\n",
        "                                    if temp_obs in self.border_list:\n",
        "                                        border_tree+=1\n",
        "                                        self.border_list.remove(temp_obs)\n",
        "\n",
        "                                    if temp_obs in self.not_border_list:\n",
        "                                        self.not_border_list.remove(temp_obs)\n",
        "                                    break\n",
        "                            else:\n",
        "                                if temp_obs in self.border_list:\n",
        "                                    self.border_list.remove(temp_obs)\n",
        "                                elif temp_obs in self.not_border_list:\n",
        "                                    self.not_border_list.remove(temp_obs)\n",
        "\n",
        "        observation = self._get_obs()\n",
        "        info = self._get_info()\n",
        "\n",
        "        if self.render_mode == \"human\":\n",
        "            self._render_frame()\n",
        "\n",
        "        return observation, info ,self.tree\n",
        "\n",
        "\n",
        "\n",
        "\n",
        "    def step(self, action):\n",
        "        # Map the action (element of {0,1,2,3}) to the direction we walk in\n",
        "        action_probability = [0,1,2]\n",
        "        selected_action = np.random.choice(action_probability,p=[0.8,0.1,0.1])\n",
        "        direction = self._action_to_direction[action]\n",
        "        if selected_action==0:\n",
        "            self._agent_location = np.clip(\n",
        "            self._agent_location + direction, 0, self.size - 1\n",
        "            )\n",
        "\n",
        "        elif selected_action==1:\n",
        "            self._agent_location = np.clip(\n",
        "            self._agent_location + direction - direction, 0, self.size - 1\n",
        "            )\n",
        "\n",
        "        elif selected_action==2:\n",
        "            direction = -1*direction\n",
        "            self._agent_location = np.clip(\n",
        "            self._agent_location + direction, 0, self.size - 1\n",
        "            )\n",
        "\n",
        "\n",
        "        # We use `np.clip` to make sure we don't leave the grid\n",
        "\n",
        "        # An episode is done iff the agent has reached the target\n",
        "        terminated = np.array_equal(self._agent_location, self._target_location)\n",
        "        tree_crash = np.any(np.all(np.array(self.tree).reshape(8,2) == self._agent_location, axis=1))\n",
        "\n",
        "        # Binary sparse rewards\n",
        "        np.random.normal(-1,0.5)\n",
        "        if terminated:\n",
        "            reward = np.random.normal(25,5)\n",
        "            self.power = self.power - np.random.normal(0.35,0.15)\n",
        "        elif tree_crash:\n",
        "            reward = np.random.normal(-1,0.5)\n",
        "            self._agent_location = np.clip(\n",
        "            self._agent_location - direction, 0, self.size - 1\n",
        "            )\n",
        "            self.health-= np.random.normal(0.35,0.15)\n",
        "        else:\n",
        "            reward = np.random.normal(-0.5,0.25)\n",
        "            self.power-= np.random.normal(0.2,0.1)\n",
        "\n",
        "        observation = self._get_obs()\n",
        "        info = self._get_info()\n",
        "\n",
        "        if self.render_mode == \"human\":\n",
        "            self._render_frame()\n",
        "\n",
        "        return observation, reward, terminated, False, info , self.power ,self.health\n",
        "\n",
        "    def take_action(self,epslion,current_state,Q):\n",
        "        prob = np.random.uniform()\n",
        "        S = current_state['agent']\n",
        "        if(prob<epslion):\n",
        "            action_to_take = np.random.choice(4,1)[0]\n",
        "        else:\n",
        "            action_to_take = np.argmax(Q[S[0]][S[1]])\n",
        "\n",
        "        return action_to_take\n",
        "    def find_next_states(self,action,current_state):\n",
        "\n",
        "        direction = self._action_to_direction[action]\n",
        "        same_action = np.clip(\n",
        "            current_state + direction, 0, self.size - 1)\n",
        "        reverse_action = np.clip(\n",
        "            current_state - direction, 0, self.size - 1)\n",
        "        no_action = np.array(current_state)\n",
        "        next_possible_states = [same_action,reverse_action,no_action]\n",
        "        states_probabilities = [0.8,0.1,0.1]\n",
        "\n",
        "        # print(next_possible_states)\n",
        "\n",
        "        tree_crash = []\n",
        "\n",
        "        for i in range(0,len(next_possible_states)):\n",
        "\n",
        "            if any(np.array_equal(next_possible_states[i], element) for element in np.array(tree_locs).reshape(8,2)):\n",
        "                tree_crash.append(True)\n",
        "                # print(next_possible_states)\n",
        "            else:\n",
        "                tree_crash.append(False)\n",
        "        # print(self._target_location)\n",
        "        is_ends = [np.array_equal(x, self._target_location) for x in next_possible_states]\n",
        "\n",
        "        return next_possible_states,states_probabilities,tree_crash,is_ends\n",
        "\n",
        "    def update_Q_learning(self,reward,current_state,next_state,action,Q,lr_):\n",
        "        self.lr = lr_\n",
        "        discountf = 0.9\n",
        "        S = current_state['agent']\n",
        "        NS = next_state['agent']\n",
        "        max_state_action = np.argmax(Q[S[0]][S[1]])\n",
        "        Q[S[0]][S[1]][action] = Q[S[0]][S[1]][action] + self.lr*(reward + discountf*Q[NS[0]][NS[1]][max_state_action]-Q[S[0]][S[1]][action])\n",
        "        return Q\n",
        "\n",
        "    def update_Q_sarsa(self,reward,current_state,next_state,action,Q,epsilon,lr_):\n",
        "        self.lr = lr_\n",
        "        discountf = 0.9\n",
        "        S = current_state['agent']\n",
        "        NS = next_state['agent']\n",
        "        next_state_action = self.take_action(epsilon,next_state,Q)\n",
        "\n",
        "        Q[S[0]][S[1]][action] = Q[S[0]][S[1]][action] + self.lr*(reward + discountf*Q[NS[0]][NS[1]][next_state_action]-Q[S[0]][S[1]][action])\n",
        "        return Q\n",
        "\n",
        "\n",
        "    def next_states(self,state_agent):\n",
        "        next_possible_actions = []\n",
        "        for x in [[0, -1], [+1, 0], [0, +1], [-1, 0]]:\n",
        "            next_state = np.clip(\n",
        "                    state_agent +x , 0, 5)\n",
        "            if np.all(np.any((np.array(self.tree)).reshape(8,2) != next_state, axis=1)):\n",
        "                if(next_state.tolist() not in next_possible_actions):\n",
        "                    next_possible_actions.append(next_state.tolist())\n",
        "        return next_possible_actions\n",
        "\n",
        "\n",
        "\n",
        "\n",
        "\n",
        "def MC_Q_update(states_,actions_,Q_matrix,rewards_):\n",
        "        first_visit = []\n",
        "        return_ = []\n",
        "        for i in range(len(states_)):\n",
        "            disc_return = 0\n",
        "            # print((states_[i]))\n",
        "            if(tuple(states_[i]) not in first_visit):\n",
        "                first_visit.append(tuple(states_[i]))\n",
        "\n",
        "                for j in range(len(rewards_)-1,i,-1):\n",
        "                    disc_return+=rewards_[j]*((0.9))\n",
        "                return_.append(disc_return)\n",
        "\n",
        "            Q_matrix[states_[i][0]][states_[i][1]][actions_[i]] = sum(return_)/len(return_)\n",
        "        return Q_matrix,sum(rewards_)\n",
        "\n",
        "\n",
        "def plot_values(data):\n",
        "  data = np.round(data, decimals=2)\n",
        "  ax = sns.heatmap(data, annot=True, fmt='.2f', cmap='viridis', cbar=True)\n",
        "  ax.set_title('State Values')\n",
        "  plt.show()\n",
        "\n"
      ]
    },
    {
      "cell_type": "code",
      "execution_count": 10,
      "metadata": {
        "id": "Bspsi2HVwEuH"
      },
      "outputs": [],
      "source": [
        "class PolicyIteration():\n",
        "    def __init__(self, env, discount, theta):\n",
        "        self.env = env\n",
        "        self.discount = discount\n",
        "        self.theta = theta\n",
        "\n",
        "        self.reset()\n",
        "\n",
        "    def policy_evaluation(self):\n",
        "        self.delta = np.inf\n",
        "\n",
        "        while(self.delta > self.theta):\n",
        "\n",
        "            self.delta = 0\n",
        "\n",
        "            for state in itertools.product(range(self.env.size), range(self.env.size)):\n",
        "                punish = 0\n",
        "                if any(np.array_equal(state, tree) for tree in self.env.tree):\n",
        "                    punish = -100\n",
        "\n",
        "                for action in ACTION_SPACE:\n",
        "                    # print(action)\n",
        "\n",
        "\n",
        "                    next_states,states_probabilities,tree_crash,is_ends = self.env.find_next_states(\n",
        "                        action = action,\n",
        "                        current_state = (state[X], state[Y]),\n",
        "                    )\n",
        "                    next_state_rewards = np.array([\n",
        "                        -0.5 + int(is_ends[s_i]) * 25 + int(tree_crash[s_i]) * -10\n",
        "                        for s_i in range(len(next_states))\n",
        "                    ], dtype=float)\n",
        "\n",
        "                    # Belman Equation\n",
        "                    next_states = np.array(next_states).reshape(len(next_states),2)\n",
        "                    next_state_values = self.state_values[next_states[:, X], next_states[:, Y]]\n",
        "                    self.q_values[state[X], state[Y], action] = np.sum(\n",
        "                        states_probabilities * (next_state_rewards + self.discount * next_state_values),\n",
        "                    )\n",
        "\n",
        "                v = self.state_values[state[X], state[Y]]\n",
        "\n",
        "                optimal_action = self.optimal_policy[state[X]][state[Y]]\n",
        "                self.state_values[state[X], state[Y]] = self.q_values[state[X], state[Y], optimal_action] + punish\n",
        "\n",
        "                self.delta = np.max([self.delta, abs(v - self.state_values[state[X], state[Y]])])\n",
        "\n",
        "    def policy_improvement(self):\n",
        "        self.policy_stable = True\n",
        "        old_policy = self.optimal_policy.copy()\n",
        "        for state in itertools.product(range(self.env.size), range(self.env.size)):\n",
        "            self.optimal_policy[state[X], state[Y]] = self.get_optimal_policy([state[X], state[Y]])\n",
        "        if not (old_policy == self.optimal_policy).all():\n",
        "            self.policy_stable = False\n",
        "\n",
        "    def fit(self):\n",
        "        while(not self.policy_stable):\n",
        "            self.policy_evaluation()\n",
        "            self.policy_improvement()\n",
        "\n",
        "    def get_optimal_policy(self, state):\n",
        "        return np.argmax(self.q_values[state[X], state[Y], :])\n",
        "\n",
        "    def get_state_values(self):\n",
        "        return self.state_values\n",
        "\n",
        "    def get_q_values(self):\n",
        "        return self.q_values\n",
        "\n",
        "    def reset(self):\n",
        "        self.env.reset(seed=SEED)\n",
        "        self.delta = 0\n",
        "        self.state_values = np.zeros((self.env.size, self.env.size))\n",
        "        self.q_values = np.zeros((self.env.size, self.env.size, 4))\n",
        "        self.optimal_policy = np.random.randint(4, size=(self.env.size, self.env.size))\n",
        "        self.policy_stable = False"
      ]
    },
    {
      "cell_type": "code",
      "execution_count": 11,
      "metadata": {
        "id": "AXn7aU9Z36lM"
      },
      "outputs": [],
      "source": [
        "def run_algorithms(algorithm):\n",
        "  env = GridWorldEnv(size=6)\n",
        "  observation,infoo,tree_locs = env.reset(seed=SEED)\n",
        "  Q_matrix = np.zeros((6,6,4))\n",
        "\n",
        "  all_rewards = []\n",
        "  for i in range(750):\n",
        "      observation,info,tree_locs = env.reset(seed=SEED)\n",
        "      epsilon = 100/(i+100)\n",
        "      # lr_ = 10/(100+i)\n",
        "      lr_ = 0.1\n",
        "      rewards_ = []\n",
        "      states_ = []\n",
        "      actions_ = []\n",
        "      while True:\n",
        "\n",
        "          #taking action\n",
        "          action = env.take_action(epsilon,observation,Q_matrix)\n",
        "\n",
        "          next_observation, reward, terminated,TF, info,power,health = env.step(action)\n",
        "\n",
        "          #Q_learning\n",
        "          if(algorithm==\"Q_learning\"):\n",
        "            Q_matrix = env.update_Q_learning(reward,observation,next_observation,action,Q_matrix,lr_)\n",
        "\n",
        "          #SARSA\n",
        "          elif(algorithm==\"SARSA\"):\n",
        "            Q_matrix = env.update_Q_sarsa(reward,observation,next_observation,action,Q_matrix,epsilon,lr_)\n",
        "\n",
        "          #MC\n",
        "          states_.append(observation['agent'])\n",
        "          rewards_.append(reward)\n",
        "          actions_.append(action)\n",
        "\n",
        "\n",
        "          if(power<5 or health<15 or terminated):\n",
        "              break\n",
        "          observation = next_observation\n",
        "      all_rewards.append(rewards_)\n",
        "\n",
        "  return all_rewards,Q_matrix\n",
        "\n"
      ]
    },
    {
      "cell_type": "code",
      "execution_count": 12,
      "metadata": {
        "colab": {
          "base_uri": "https://localhost:8080/",
          "height": 1000
        },
        "id": "p13QfqshfS1q",
        "outputId": "73a07135-8b8b-4aee-94f3-48fcb3ce8440"
      },
      "outputs": [
        {
          "data": {
            "image/png": "[encoded data removed]",
            "text/plain": [
              "<Figure size 432x288 with 2 Axes>"
            ]
          },
          "metadata": {
            "needs_background": "light"
          },
          "output_type": "display_data"
        },
        {
          "data": {
            "application/vnd.plotly.v1+json": {
              "config": {
                "plotlyServerURL": "https://plot.ly"
              },
              "data": [
                {
                  "text": [
                    [
                      "→",
                      "→",
                      "→",
                      "↓",
                      "↓",
                      "↓"
                    ],
                    [
                      "↑",
                      "↓",
                      "↓",
                      "→",
                      "→",
                      "↓"
                    ],
                    [
                      "→",
                      "→",
                      "→",
                      "↑",
                      "↓",
                      "↓"
                    ],
                    [
                      "→",
                      "↑",
                      "↓",
                      "↓",
                      "↓",
                      "*"
                    ],
                    [
                      "←",
                      "↓",
                      "↓",
                      "↓",
                      "↓",
                      "↓"
                    ],
                    [
                      "↓",
                      "↓",
                      "↓",
                      "↓",
                      "↓",
                      "↓"
                    ]
                  ],
                  "texttemplate": "%{text}",
                  "type": "heatmap",
                  "z": [
                    [
                      3.904107710836248,
                      5.694083618111376,
                      7.761883647675994,
                      10.42357453470656,
                      0,
                      15.880478259023024
                    ],
                    [
                      2.1684114035630007,
                      0,
                      0,
                      12.629618114060378,
                      15.20968155491524,
                      18.120991610237088
                    ],
                    [
                      1.2922855080588993,
                      4.332977139962934,
                      6.824301453852968,
                      9.704751802975519,
                      0,
                      23.26279705841009
                    ],
                    [
                      3.6744433687572453,
                      1.3059201355657772,
                      0,
                      0,
                      0,
                      25
                    ],
                    [
                      4.152261946431263,
                      0,
                      0,
                      0,
                      0,
                      0
                    ],
                    [
                      0,
                      0,
                      0,
                      0,
                      0,
                      0
                    ]
                  ]
                }
              ],
              "layout": {
                "autosize": false,
                "height": 600,
                "margin": {
                  "b": 50,
                  "l": 50,
                  "pad": 10,
                  "r": 50,
                  "t": 100
                },
                "template": {
                  "data": {
                    "bar": [
                      {
                        "error_x": {
                          "color": "#2a3f5f"
                        },
                        "error_y": {
                          "color": "#2a3f5f"
                        },
                        "marker": {
                          "line": {
                            "color": "#E5ECF6",
                            "width": 0.5
                          },
                          "pattern": {
                            "fillmode": "overlay",
                            "size": 10,
                            "solidity": 0.2
                          }
                        },
                        "type": "bar"
                      }
                    ],
                    "barpolar": [
                      {
                        "marker": {
                          "line": {
                            "color": "#E5ECF6",
                            "width": 0.5
                          },
                          "pattern": {
                            "fillmode": "overlay",
                            "size": 10,
                            "solidity": 0.2
                          }
                        },
                        "type": "barpolar"
                      }
                    ],
                    "carpet": [
                      {
                        "aaxis": {
                          "endlinecolor": "#2a3f5f",
                          "gridcolor": "white",
                          "linecolor": "white",
                          "minorgridcolor": "white",
                          "startlinecolor": "#2a3f5f"
                        },
                        "baxis": {
                          "endlinecolor": "#2a3f5f",
                          "gridcolor": "white",
                          "linecolor": "white",
                          "minorgridcolor": "white",
                          "startlinecolor": "#2a3f5f"
                        },
                        "type": "carpet"
                      }
                    ],
                    "choropleth": [
                      {
                        "colorbar": {
                          "outlinewidth": 0,
                          "ticks": ""
                        },
                        "type": "choropleth"
                      }
                    ],
                    "contour": [
                      {
                        "colorbar": {
                          "outlinewidth": 0,
                          "ticks": ""
                        },
                        "colorscale": [
                          [
                            0,
                            "#0d0887"
                          ],
                          [
                            0.1111111111111111,
                            "#46039f"
                          ],
                          [
                            0.2222222222222222,
                            "#7201a8"
                          ],
                          [
                            0.3333333333333333,
                            "#9c179e"
                          ],
                          [
                            0.4444444444444444,
                            "#bd3786"
                          ],
                          [
                            0.5555555555555556,
                            "#d8576b"
                          ],
                          [
                            0.6666666666666666,
                            "#ed7953"
                          ],
                          [
                            0.7777777777777778,
                            "#fb9f3a"
                          ],
                          [
                            0.8888888888888888,
                            "#fdca26"
                          ],
                          [
                            1,
                            "#f0f921"
                          ]
                        ],
                        "type": "contour"
                      }
                    ],
                    "contourcarpet": [
                      {
                        "colorbar": {
                          "outlinewidth": 0,
                          "ticks": ""
                        },
                        "type": "contourcarpet"
                      }
                    ],
                    "heatmap": [
                      {
                        "colorbar": {
                          "outlinewidth": 0,
                          "ticks": ""
                        },
                        "colorscale": [
                          [
                            0,
                            "#0d0887"
                          ],
                          [
                            0.1111111111111111,
                            "#46039f"
                          ],
                          [
                            0.2222222222222222,
                            "#7201a8"
                          ],
                          [
                            0.3333333333333333,
                            "#9c179e"
                          ],
                          [
                            0.4444444444444444,
                            "#bd3786"
                          ],
                          [
                            0.5555555555555556,
                            "#d8576b"
                          ],
                          [
                            0.6666666666666666,
                            "#ed7953"
                          ],
                          [
                            0.7777777777777778,
                            "#fb9f3a"
                          ],
                          [
                            0.8888888888888888,
                            "#fdca26"
                          ],
                          [
                            1,
                            "#f0f921"
                          ]
                        ],
                        "type": "heatmap"
                      }
                    ],
                    "heatmapgl": [
                      {
                        "colorbar": {
                          "outlinewidth": 0,
                          "ticks": ""
                        },
                        "colorscale": [
                          [
                            0,
                            "#0d0887"
                          ],
                          [
                            0.1111111111111111,
                            "#46039f"
                          ],
                          [
                            0.2222222222222222,
                            "#7201a8"
                          ],
                          [
                            0.3333333333333333,
                            "#9c179e"
                          ],
                          [
                            0.4444444444444444,
                            "#bd3786"
                          ],
                          [
                            0.5555555555555556,
                            "#d8576b"
                          ],
                          [
                            0.6666666666666666,
                            "#ed7953"
                          ],
                          [
                            0.7777777777777778,
                            "#fb9f3a"
                          ],
                          [
                            0.8888888888888888,
                            "#fdca26"
                          ],
                          [
                            1,
                            "#f0f921"
                          ]
                        ],
                        "type": "heatmapgl"
                      }
                    ],
                    "histogram": [
                      {
                        "marker": {
                          "pattern": {
                            "fillmode": "overlay",
                            "size": 10,
                            "solidity": 0.2
                          }
                        },
                        "type": "histogram"
                      }
                    ],
                    "histogram2d": [
                      {
                        "colorbar": {
                          "outlinewidth": 0,
                          "ticks": ""
                        },
                        "colorscale": [
                          [
                            0,
                            "#0d0887"
                          ],
                          [
                            0.1111111111111111,
                            "#46039f"
                          ],
                          [
                            0.2222222222222222,
                            "#7201a8"
                          ],
                          [
                            0.3333333333333333,
                            "#9c179e"
                          ],
                          [
                            0.4444444444444444,
                            "#bd3786"
                          ],
                          [
                            0.5555555555555556,
                            "#d8576b"
                          ],
                          [
                            0.6666666666666666,
                            "#ed7953"
                          ],
                          [
                            0.7777777777777778,
                            "#fb9f3a"
                          ],
                          [
                            0.8888888888888888,
                            "#fdca26"
                          ],
                          [
                            1,
                            "#f0f921"
                          ]
                        ],
                        "type": "histogram2d"
                      }
                    ],
                    "histogram2dcontour": [
                      {
                        "colorbar": {
                          "outlinewidth": 0,
                          "ticks": ""
                        },
                        "colorscale": [
                          [
                            0,
                            "#0d0887"
                          ],
                          [
                            0.1111111111111111,
                            "#46039f"
                          ],
                          [
                            0.2222222222222222,
                            "#7201a8"
                          ],
                          [
                            0.3333333333333333,
                            "#9c179e"
                          ],
                          [
                            0.4444444444444444,
                            "#bd3786"
                          ],
                          [
                            0.5555555555555556,
                            "#d8576b"
                          ],
                          [
                            0.6666666666666666,
                            "#ed7953"
                          ],
                          [
                            0.7777777777777778,
                            "#fb9f3a"
                          ],
                          [
                            0.8888888888888888,
                            "#fdca26"
                          ],
                          [
                            1,
                            "#f0f921"
                          ]
                        ],
                        "type": "histogram2dcontour"
                      }
                    ],
                    "mesh3d": [
                      {
                        "colorbar": {
                          "outlinewidth": 0,
                          "ticks": ""
                        },
                        "type": "mesh3d"
                      }
                    ],
                    "parcoords": [
                      {
                        "line": {
                          "colorbar": {
                            "outlinewidth": 0,
                            "ticks": ""
                          }
                        },
                        "type": "parcoords"
                      }
                    ],
                    "pie": [
                      {
                        "automargin": true,
                        "type": "pie"
                      }
                    ],
                    "scatter": [
                      {
                        "fillpattern": {
                          "fillmode": "overlay",
                          "size": 10,
                          "solidity": 0.2
                        },
                        "type": "scatter"
                      }
                    ],
                    "scatter3d": [
                      {
                        "line": {
                          "colorbar": {
                            "outlinewidth": 0,
                            "ticks": ""
                          }
                        },
                        "marker": {
                          "colorbar": {
                            "outlinewidth": 0,
                            "ticks": ""
                          }
                        },
                        "type": "scatter3d"
                      }
                    ],
                    "scattercarpet": [
                      {
                        "marker": {
                          "colorbar": {
                            "outlinewidth": 0,
                            "ticks": ""
                          }
                        },
                        "type": "scattercarpet"
                      }
                    ],
                    "scattergeo": [
                      {
                        "marker": {
                          "colorbar": {
                            "outlinewidth": 0,
                            "ticks": ""
                          }
                        },
                        "type": "scattergeo"
                      }
                    ],
                    "scattergl": [
                      {
                        "marker": {
                          "colorbar": {
                            "outlinewidth": 0,
                            "ticks": ""
                          }
                        },
                        "type": "scattergl"
                      }
                    ],
                    "scattermapbox": [
                      {
                        "marker": {
                          "colorbar": {
                            "outlinewidth": 0,
                            "ticks": ""
                          }
                        },
                        "type": "scattermapbox"
                      }
                    ],
                    "scatterpolar": [
                      {
                        "marker": {
                          "colorbar": {
                            "outlinewidth": 0,
                            "ticks": ""
                          }
                        },
                        "type": "scatterpolar"
                      }
                    ],
                    "scatterpolargl": [
                      {
                        "marker": {
                          "colorbar": {
                            "outlinewidth": 0,
                            "ticks": ""
                          }
                        },
                        "type": "scatterpolargl"
                      }
                    ],
                    "scatterternary": [
                      {
                        "marker": {
                          "colorbar": {
                            "outlinewidth": 0,
                            "ticks": ""
                          }
                        },
                        "type": "scatterternary"
                      }
                    ],
                    "surface": [
                      {
                        "colorbar": {
                          "outlinewidth": 0,
                          "ticks": ""
                        },
                        "colorscale": [
                          [
                            0,
                            "#0d0887"
                          ],
                          [
                            0.1111111111111111,
                            "#46039f"
                          ],
                          [
                            0.2222222222222222,
                            "#7201a8"
                          ],
                          [
                            0.3333333333333333,
                            "#9c179e"
                          ],
                          [
                            0.4444444444444444,
                            "#bd3786"
                          ],
                          [
                            0.5555555555555556,
                            "#d8576b"
                          ],
                          [
                            0.6666666666666666,
                            "#ed7953"
                          ],
                          [
                            0.7777777777777778,
                            "#fb9f3a"
                          ],
                          [
                            0.8888888888888888,
                            "#fdca26"
                          ],
                          [
                            1,
                            "#f0f921"
                          ]
                        ],
                        "type": "surface"
                      }
                    ],
                    "table": [
                      {
                        "cells": {
                          "fill": {
                            "color": "#EBF0F8"
                          },
                          "line": {
                            "color": "white"
                          }
                        },
                        "header": {
                          "fill": {
                            "color": "#C8D4E3"
                          },
                          "line": {
                            "color": "white"
                          }
                        },
                        "type": "table"
                      }
                    ]
                  },
                  "layout": {
                    "annotationdefaults": {
                      "arrowcolor": "#2a3f5f",
                      "arrowhead": 0,
                      "arrowwidth": 1
                    },
                    "autotypenumbers": "strict",
                    "coloraxis": {
                      "colorbar": {
                        "outlinewidth": 0,
                        "ticks": ""
                      }
                    },
                    "colorscale": {
                      "diverging": [
                        [
                          0,
                          "#8e0152"
                        ],
                        [
                          0.1,
                          "#c51b7d"
                        ],
                        [
                          0.2,
                          "#de77ae"
                        ],
                        [
                          0.3,
                          "#f1b6da"
                        ],
                        [
                          0.4,
                          "#fde0ef"
                        ],
                        [
                          0.5,
                          "#f7f7f7"
                        ],
                        [
                          0.6,
                          "#e6f5d0"
                        ],
                        [
                          0.7,
                          "#b8e186"
                        ],
                        [
                          0.8,
                          "#7fbc41"
                        ],
                        [
                          0.9,
                          "#4d9221"
                        ],
                        [
                          1,
                          "#276419"
                        ]
                      ],
                      "sequential": [
                        [
                          0,
                          "#0d0887"
                        ],
                        [
                          0.1111111111111111,
                          "#46039f"
                        ],
                        [
                          0.2222222222222222,
                          "#7201a8"
                        ],
                        [
                          0.3333333333333333,
                          "#9c179e"
                        ],
                        [
                          0.4444444444444444,
                          "#bd3786"
                        ],
                        [
                          0.5555555555555556,
                          "#d8576b"
                        ],
                        [
                          0.6666666666666666,
                          "#ed7953"
                        ],
                        [
                          0.7777777777777778,
                          "#fb9f3a"
                        ],
                        [
                          0.8888888888888888,
                          "#fdca26"
                        ],
                        [
                          1,
                          "#f0f921"
                        ]
                      ],
                      "sequentialminus": [
                        [
                          0,
                          "#0d0887"
                        ],
                        [
                          0.1111111111111111,
                          "#46039f"
                        ],
                        [
                          0.2222222222222222,
                          "#7201a8"
                        ],
                        [
                          0.3333333333333333,
                          "#9c179e"
                        ],
                        [
                          0.4444444444444444,
                          "#bd3786"
                        ],
                        [
                          0.5555555555555556,
                          "#d8576b"
                        ],
                        [
                          0.6666666666666666,
                          "#ed7953"
                        ],
                        [
                          0.7777777777777778,
                          "#fb9f3a"
                        ],
                        [
                          0.8888888888888888,
                          "#fdca26"
                        ],
                        [
                          1,
                          "#f0f921"
                        ]
                      ]
                    },
                    "colorway": [
                      "#636efa",
                      "#EF553B",
                      "#00cc96",
                      "#ab63fa",
                      "#FFA15A",
                      "#19d3f3",
                      "#FF6692",
                      "#B6E880",
                      "#FF97FF",
                      "#FECB52"
                    ],
                    "font": {
                      "color": "#2a3f5f"
                    },
                    "geo": {
                      "bgcolor": "white",
                      "lakecolor": "white",
                      "landcolor": "#E5ECF6",
                      "showlakes": true,
                      "showland": true,
                      "subunitcolor": "white"
                    },
                    "hoverlabel": {
                      "align": "left"
                    },
                    "hovermode": "closest",
                    "mapbox": {
                      "style": "light"
                    },
                    "paper_bgcolor": "white",
                    "plot_bgcolor": "#E5ECF6",
                    "polar": {
                      "angularaxis": {
                        "gridcolor": "white",
                        "linecolor": "white",
                        "ticks": ""
                      },
                      "bgcolor": "#E5ECF6",
                      "radialaxis": {
                        "gridcolor": "white",
                        "linecolor": "white",
                        "ticks": ""
                      }
                    },
                    "scene": {
                      "xaxis": {
                        "backgroundcolor": "#E5ECF6",
                        "gridcolor": "white",
                        "gridwidth": 2,
                        "linecolor": "white",
                        "showbackground": true,
                        "ticks": "",
                        "zerolinecolor": "white"
                      },
                      "yaxis": {
                        "backgroundcolor": "#E5ECF6",
                        "gridcolor": "white",
                        "gridwidth": 2,
                        "linecolor": "white",
                        "showbackground": true,
                        "ticks": "",
                        "zerolinecolor": "white"
                      },
                      "zaxis": {
                        "backgroundcolor": "#E5ECF6",
                        "gridcolor": "white",
                        "gridwidth": 2,
                        "linecolor": "white",
                        "showbackground": true,
                        "ticks": "",
                        "zerolinecolor": "white"
                      }
                    },
                    "shapedefaults": {
                      "line": {
                        "color": "#2a3f5f"
                      }
                    },
                    "ternary": {
                      "aaxis": {
                        "gridcolor": "white",
                        "linecolor": "white",
                        "ticks": ""
                      },
                      "baxis": {
                        "gridcolor": "white",
                        "linecolor": "white",
                        "ticks": ""
                      },
                      "bgcolor": "#E5ECF6",
                      "caxis": {
                        "gridcolor": "white",
                        "linecolor": "white",
                        "ticks": ""
                      }
                    },
                    "title": {
                      "x": 0.05
                    },
                    "xaxis": {
                      "automargin": true,
                      "gridcolor": "white",
                      "linecolor": "white",
                      "ticks": "",
                      "title": {
                        "standoff": 15
                      },
                      "zerolinecolor": "white",
                      "zerolinewidth": 2
                    },
                    "yaxis": {
                      "automargin": true,
                      "gridcolor": "white",
                      "linecolor": "white",
                      "ticks": "",
                      "title": {
                        "standoff": 15
                      },
                      "zerolinecolor": "white",
                      "zerolinewidth": 2
                    }
                  }
                },
                "title": {
                  "text": "Optimal Policy"
                },
                "width": 1000,
                "xaxis": {
                  "constrain": "domain",
                  "side": "top"
                },
                "yaxis": {
                  "autorange": "reversed",
                  "scaleanchor": "x"
                }
              }
            }
          },
          "metadata": {},
          "output_type": "display_data"
        }
      ],
      "source": [
        "rewards_agents = []\n",
        "for i in range(NO_RUNS):\n",
        "    all_rewards_SARSA,qvals = run_algorithms(\"SARSA\")\n",
        "    mean_rewards = [sum(episode) for episode in all_rewards_SARSA]\n",
        "    rewards_agents.append(mean_rewards)\n",
        "\n",
        "size = 6\n",
        "state_values = np.zeros((size, size))\n",
        "for state in itertools.product(range(size), range(size)):\n",
        "    state_values[state[0]][state[1]] = max(qvals[state[0]][state[1]][:])\n",
        "\n",
        "plt.figure()\n",
        "state_values[3,5] = 25\n",
        "plot_values(state_values)\n",
        "plt.show()\n",
        "ACTIONS_NAMES = ['↓', '→','↑', '←']\n",
        "actions = [[ACTIONS_NAMES[np.argmax(qvals[i][j][:])] for j in range(6)] for i in range(6)]\n",
        "actions[3][5] = '*'\n",
        "fig = go.Figure(data=go.Heatmap(\n",
        "    z = abs(state_values),\n",
        "    text = actions,\n",
        "    texttemplate = '%{text}',\n",
        "))\n",
        "fig.update_layout(P_LAYOUT, title=dict(text='Optimal Policy'))\n",
        "fig.update_xaxes(side='top', constrain='domain')\n",
        "fig.update_yaxes(autorange='reversed', scaleanchor='x')\n",
        "actions\n",
        "fig.show()"
      ]
    },
    {
      "cell_type": "code",
      "execution_count": 13,
      "metadata": {
        "colab": {
          "base_uri": "https://localhost:8080/",
          "height": 472
        },
        "id": "Hsd030zm0-py",
        "outputId": "422be0d3-4c6e-4357-cdff-132f8711c341"
      },
      "outputs": [
        {
          "data": {
            "image/png": "[encoded data removed]",
            "text/plain": [
              "<Figure size 432x288 with 1 Axes>"
            ]
          },
          "metadata": {
            "needs_background": "light"
          },
          "output_type": "display_data"
        }
      ],
      "source": [
        "mean = [sum(x)/NO_RUNS for x in zip(*rewards_agents)]\n",
        "transposed_lists = np.array(rewards_agents).T\n",
        "std = [np.std(position) for position in transposed_lists]\n",
        "upper = np.array(mean) + 3*np.array(std)\n",
        "lower = np.array(mean) - 3*np.array(std)\n",
        "fig, ax = plt.subplots()\n",
        "ax.plot(mean, label=\"reward\")\n",
        "ax.fill_between(np.arange(len(mean)), lower ,upper , alpha=0.5, label=\"confidence\")\n",
        "ax.set_xlabel(\"Trial\")\n",
        "ax.set_ylabel(\"Reward\")\n",
        "ax.set_title(\"Reward with Confidence Bound 3 Std\")\n",
        "plt.legend()\n",
        "plt.show()"
      ]
    },
    {
      "cell_type": "code",
      "execution_count": 119,
      "metadata": {
        "id": "SbpXryjZ7250"
      },
      "outputs": [],
      "source": []
    },
    {
      "cell_type": "code",
      "execution_count": 14,
      "metadata": {
        "colab": {
          "base_uri": "https://localhost:8080/",
          "height": 1000
        },
        "id": "8t1T0g3duY_Y",
        "outputId": "f510c7ea-05e8-46b7-9604-4f80786d1ec1"
      },
      "outputs": [
        {
          "data": {
            "image/png": "[encoded data removed]",
            "text/plain": [
              "<Figure size 432x288 with 2 Axes>"
            ]
          },
          "metadata": {
            "needs_background": "light"
          },
          "output_type": "display_data"
        },
        {
          "data": {
            "application/vnd.plotly.v1+json": {
              "config": {
                "plotlyServerURL": "https://plot.ly"
              },
              "data": [
                {
                  "text": [
                    [
                      "→",
                      "→",
                      "→",
                      "↓",
                      "↓",
                      "↓"
                    ],
                    [
                      "↑",
                      "↓",
                      "↓",
                      "→",
                      "→",
                      "↓"
                    ],
                    [
                      "→",
                      "→",
                      "→",
                      "↑",
                      "↓",
                      "↓"
                    ],
                    [
                      "←",
                      "↑",
                      "↓",
                      "↓",
                      "↓",
                      "*"
                    ],
                    [
                      "↑",
                      "↓",
                      "↓",
                      "↓",
                      "↓",
                      "↓"
                    ],
                    [
                      "↓",
                      "↓",
                      "↓",
                      "↓",
                      "↓",
                      "↓"
                    ]
                  ],
                  "texttemplate": "%{text}",
                  "type": "heatmap",
                  "z": [
                    [
                      3.618586448647165,
                      3.392047986021665,
                      3.1488946599718517,
                      2.3335312918168203,
                      0,
                      17.122273827527167
                    ],
                    [
                      4.2867946971637725,
                      0,
                      0,
                      11.469735749927484,
                      14.42653924656629,
                      20.539334554583448
                    ],
                    [
                      3.6869981089248585,
                      3.602026988274641,
                      3.275589614987238,
                      2.331390415199495,
                      0,
                      25.44081162876839
                    ],
                    [
                      4.691890297014639,
                      4.450683787041054,
                      0,
                      0,
                      0,
                      25
                    ],
                    [
                      4.776296436702352,
                      0,
                      0,
                      0,
                      0,
                      0
                    ],
                    [
                      0,
                      0,
                      0,
                      0,
                      0,
                      0
                    ]
                  ]
                }
              ],
              "layout": {
                "autosize": false,
                "height": 600,
                "margin": {
                  "b": 50,
                  "l": 50,
                  "pad": 10,
                  "r": 50,
                  "t": 100
                },
                "template": {
                  "data": {
                    "bar": [
                      {
                        "error_x": {
                          "color": "#2a3f5f"
                        },
                        "error_y": {
                          "color": "#2a3f5f"
                        },
                        "marker": {
                          "line": {
                            "color": "#E5ECF6",
                            "width": 0.5
                          },
                          "pattern": {
                            "fillmode": "overlay",
                            "size": 10,
                            "solidity": 0.2
                          }
                        },
                        "type": "bar"
                      }
                    ],
                    "barpolar": [
                      {
                        "marker": {
                          "line": {
                            "color": "#E5ECF6",
                            "width": 0.5
                          },
                          "pattern": {
                            "fillmode": "overlay",
                            "size": 10,
                            "solidity": 0.2
                          }
                        },
                        "type": "barpolar"
                      }
                    ],
                    "carpet": [
                      {
                        "aaxis": {
                          "endlinecolor": "#2a3f5f",
                          "gridcolor": "white",
                          "linecolor": "white",
                          "minorgridcolor": "white",
                          "startlinecolor": "#2a3f5f"
                        },
                        "baxis": {
                          "endlinecolor": "#2a3f5f",
                          "gridcolor": "white",
                          "linecolor": "white",
                          "minorgridcolor": "white",
                          "startlinecolor": "#2a3f5f"
                        },
                        "type": "carpet"
                      }
                    ],
                    "choropleth": [
                      {
                        "colorbar": {
                          "outlinewidth": 0,
                          "ticks": ""
                        },
                        "type": "choropleth"
                      }
                    ],
                    "contour": [
                      {
                        "colorbar": {
                          "outlinewidth": 0,
                          "ticks": ""
                        },
                        "colorscale": [
                          [
                            0,
                            "#0d0887"
                          ],
                          [
                            0.1111111111111111,
                            "#46039f"
                          ],
                          [
                            0.2222222222222222,
                            "#7201a8"
                          ],
                          [
                            0.3333333333333333,
                            "#9c179e"
                          ],
                          [
                            0.4444444444444444,
                            "#bd3786"
                          ],
                          [
                            0.5555555555555556,
                            "#d8576b"
                          ],
                          [
                            0.6666666666666666,
                            "#ed7953"
                          ],
                          [
                            0.7777777777777778,
                            "#fb9f3a"
                          ],
                          [
                            0.8888888888888888,
                            "#fdca26"
                          ],
                          [
                            1,
                            "#f0f921"
                          ]
                        ],
                        "type": "contour"
                      }
                    ],
                    "contourcarpet": [
                      {
                        "colorbar": {
                          "outlinewidth": 0,
                          "ticks": ""
                        },
                        "type": "contourcarpet"
                      }
                    ],
                    "heatmap": [
                      {
                        "colorbar": {
                          "outlinewidth": 0,
                          "ticks": ""
                        },
                        "colorscale": [
                          [
                            0,
                            "#0d0887"
                          ],
                          [
                            0.1111111111111111,
                            "#46039f"
                          ],
                          [
                            0.2222222222222222,
                            "#7201a8"
                          ],
                          [
                            0.3333333333333333,
                            "#9c179e"
                          ],
                          [
                            0.4444444444444444,
                            "#bd3786"
                          ],
                          [
                            0.5555555555555556,
                            "#d8576b"
                          ],
                          [
                            0.6666666666666666,
                            "#ed7953"
                          ],
                          [
                            0.7777777777777778,
                            "#fb9f3a"
                          ],
                          [
                            0.8888888888888888,
                            "#fdca26"
                          ],
                          [
                            1,
                            "#f0f921"
                          ]
                        ],
                        "type": "heatmap"
                      }
                    ],
                    "heatmapgl": [
                      {
                        "colorbar": {
                          "outlinewidth": 0,
                          "ticks": ""
                        },
                        "colorscale": [
                          [
                            0,
                            "#0d0887"
                          ],
                          [
                            0.1111111111111111,
                            "#46039f"
                          ],
                          [
                            0.2222222222222222,
                            "#7201a8"
                          ],
                          [
                            0.3333333333333333,
                            "#9c179e"
                          ],
                          [
                            0.4444444444444444,
                            "#bd3786"
                          ],
                          [
                            0.5555555555555556,
                            "#d8576b"
                          ],
                          [
                            0.6666666666666666,
                            "#ed7953"
                          ],
                          [
                            0.7777777777777778,
                            "#fb9f3a"
                          ],
                          [
                            0.8888888888888888,
                            "#fdca26"
                          ],
                          [
                            1,
                            "#f0f921"
                          ]
                        ],
                        "type": "heatmapgl"
                      }
                    ],
                    "histogram": [
                      {
                        "marker": {
                          "pattern": {
                            "fillmode": "overlay",
                            "size": 10,
                            "solidity": 0.2
                          }
                        },
                        "type": "histogram"
                      }
                    ],
                    "histogram2d": [
                      {
                        "colorbar": {
                          "outlinewidth": 0,
                          "ticks": ""
                        },
                        "colorscale": [
                          [
                            0,
                            "#0d0887"
                          ],
                          [
                            0.1111111111111111,
                            "#46039f"
                          ],
                          [
                            0.2222222222222222,
                            "#7201a8"
                          ],
                          [
                            0.3333333333333333,
                            "#9c179e"
                          ],
                          [
                            0.4444444444444444,
                            "#bd3786"
                          ],
                          [
                            0.5555555555555556,
                            "#d8576b"
                          ],
                          [
                            0.6666666666666666,
                            "#ed7953"
                          ],
                          [
                            0.7777777777777778,
                            "#fb9f3a"
                          ],
                          [
                            0.8888888888888888,
                            "#fdca26"
                          ],
                          [
                            1,
                            "#f0f921"
                          ]
                        ],
                        "type": "histogram2d"
                      }
                    ],
                    "histogram2dcontour": [
                      {
                        "colorbar": {
                          "outlinewidth": 0,
                          "ticks": ""
                        },
                        "colorscale": [
                          [
                            0,
                            "#0d0887"
                          ],
                          [
                            0.1111111111111111,
                            "#46039f"
                          ],
                          [
                            0.2222222222222222,
                            "#7201a8"
                          ],
                          [
                            0.3333333333333333,
                            "#9c179e"
                          ],
                          [
                            0.4444444444444444,
                            "#bd3786"
                          ],
                          [
                            0.5555555555555556,
                            "#d8576b"
                          ],
                          [
                            0.6666666666666666,
                            "#ed7953"
                          ],
                          [
                            0.7777777777777778,
                            "#fb9f3a"
                          ],
                          [
                            0.8888888888888888,
                            "#fdca26"
                          ],
                          [
                            1,
                            "#f0f921"
                          ]
                        ],
                        "type": "histogram2dcontour"
                      }
                    ],
                    "mesh3d": [
                      {
                        "colorbar": {
                          "outlinewidth": 0,
                          "ticks": ""
                        },
                        "type": "mesh3d"
                      }
                    ],
                    "parcoords": [
                      {
                        "line": {
                          "colorbar": {
                            "outlinewidth": 0,
                            "ticks": ""
                          }
                        },
                        "type": "parcoords"
                      }
                    ],
                    "pie": [
                      {
                        "automargin": true,
                        "type": "pie"
                      }
                    ],
                    "scatter": [
                      {
                        "fillpattern": {
                          "fillmode": "overlay",
                          "size": 10,
                          "solidity": 0.2
                        },
                        "type": "scatter"
                      }
                    ],
                    "scatter3d": [
                      {
                        "line": {
                          "colorbar": {
                            "outlinewidth": 0,
                            "ticks": ""
                          }
                        },
                        "marker": {
                          "colorbar": {
                            "outlinewidth": 0,
                            "ticks": ""
                          }
                        },
                        "type": "scatter3d"
                      }
                    ],
                    "scattercarpet": [
                      {
                        "marker": {
                          "colorbar": {
                            "outlinewidth": 0,
                            "ticks": ""
                          }
                        },
                        "type": "scattercarpet"
                      }
                    ],
                    "scattergeo": [
                      {
                        "marker": {
                          "colorbar": {
                            "outlinewidth": 0,
                            "ticks": ""
                          }
                        },
                        "type": "scattergeo"
                      }
                    ],
                    "scattergl": [
                      {
                        "marker": {
                          "colorbar": {
                            "outlinewidth": 0,
                            "ticks": ""
                          }
                        },
                        "type": "scattergl"
                      }
                    ],
                    "scattermapbox": [
                      {
                        "marker": {
                          "colorbar": {
                            "outlinewidth": 0,
                            "ticks": ""
                          }
                        },
                        "type": "scattermapbox"
                      }
                    ],
                    "scatterpolar": [
                      {
                        "marker": {
                          "colorbar": {
                            "outlinewidth": 0,
                            "ticks": ""
                          }
                        },
                        "type": "scatterpolar"
                      }
                    ],
                    "scatterpolargl": [
                      {
                        "marker": {
                          "colorbar": {
                            "outlinewidth": 0,
                            "ticks": ""
                          }
                        },
                        "type": "scatterpolargl"
                      }
                    ],
                    "scatterternary": [
                      {
                        "marker": {
                          "colorbar": {
                            "outlinewidth": 0,
                            "ticks": ""
                          }
                        },
                        "type": "scatterternary"
                      }
                    ],
                    "surface": [
                      {
                        "colorbar": {
                          "outlinewidth": 0,
                          "ticks": ""
                        },
                        "colorscale": [
                          [
                            0,
                            "#0d0887"
                          ],
                          [
                            0.1111111111111111,
                            "#46039f"
                          ],
                          [
                            0.2222222222222222,
                            "#7201a8"
                          ],
                          [
                            0.3333333333333333,
                            "#9c179e"
                          ],
                          [
                            0.4444444444444444,
                            "#bd3786"
                          ],
                          [
                            0.5555555555555556,
                            "#d8576b"
                          ],
                          [
                            0.6666666666666666,
                            "#ed7953"
                          ],
                          [
                            0.7777777777777778,
                            "#fb9f3a"
                          ],
                          [
                            0.8888888888888888,
                            "#fdca26"
                          ],
                          [
                            1,
                            "#f0f921"
                          ]
                        ],
                        "type": "surface"
                      }
                    ],
                    "table": [
                      {
                        "cells": {
                          "fill": {
                            "color": "#EBF0F8"
                          },
                          "line": {
                            "color": "white"
                          }
                        },
                        "header": {
                          "fill": {
                            "color": "#C8D4E3"
                          },
                          "line": {
                            "color": "white"
                          }
                        },
                        "type": "table"
                      }
                    ]
                  },
                  "layout": {
                    "annotationdefaults": {
                      "arrowcolor": "#2a3f5f",
                      "arrowhead": 0,
                      "arrowwidth": 1
                    },
                    "autotypenumbers": "strict",
                    "coloraxis": {
                      "colorbar": {
                        "outlinewidth": 0,
                        "ticks": ""
                      }
                    },
                    "colorscale": {
                      "diverging": [
                        [
                          0,
                          "#8e0152"
                        ],
                        [
                          0.1,
                          "#c51b7d"
                        ],
                        [
                          0.2,
                          "#de77ae"
                        ],
                        [
                          0.3,
                          "#f1b6da"
                        ],
                        [
                          0.4,
                          "#fde0ef"
                        ],
                        [
                          0.5,
                          "#f7f7f7"
                        ],
                        [
                          0.6,
                          "#e6f5d0"
                        ],
                        [
                          0.7,
                          "#b8e186"
                        ],
                        [
                          0.8,
                          "#7fbc41"
                        ],
                        [
                          0.9,
                          "#4d9221"
                        ],
                        [
                          1,
                          "#276419"
                        ]
                      ],
                      "sequential": [
                        [
                          0,
                          "#0d0887"
                        ],
                        [
                          0.1111111111111111,
                          "#46039f"
                        ],
                        [
                          0.2222222222222222,
                          "#7201a8"
                        ],
                        [
                          0.3333333333333333,
                          "#9c179e"
                        ],
                        [
                          0.4444444444444444,
                          "#bd3786"
                        ],
                        [
                          0.5555555555555556,
                          "#d8576b"
                        ],
                        [
                          0.6666666666666666,
                          "#ed7953"
                        ],
                        [
                          0.7777777777777778,
                          "#fb9f3a"
                        ],
                        [
                          0.8888888888888888,
                          "#fdca26"
                        ],
                        [
                          1,
                          "#f0f921"
                        ]
                      ],
                      "sequentialminus": [
                        [
                          0,
                          "#0d0887"
                        ],
                        [
                          0.1111111111111111,
                          "#46039f"
                        ],
                        [
                          0.2222222222222222,
                          "#7201a8"
                        ],
                        [
                          0.3333333333333333,
                          "#9c179e"
                        ],
                        [
                          0.4444444444444444,
                          "#bd3786"
                        ],
                        [
                          0.5555555555555556,
                          "#d8576b"
                        ],
                        [
                          0.6666666666666666,
                          "#ed7953"
                        ],
                        [
                          0.7777777777777778,
                          "#fb9f3a"
                        ],
                        [
                          0.8888888888888888,
                          "#fdca26"
                        ],
                        [
                          1,
                          "#f0f921"
                        ]
                      ]
                    },
                    "colorway": [
                      "#636efa",
                      "#EF553B",
                      "#00cc96",
                      "#ab63fa",
                      "#FFA15A",
                      "#19d3f3",
                      "#FF6692",
                      "#B6E880",
                      "#FF97FF",
                      "#FECB52"
                    ],
                    "font": {
                      "color": "#2a3f5f"
                    },
                    "geo": {
                      "bgcolor": "white",
                      "lakecolor": "white",
                      "landcolor": "#E5ECF6",
                      "showlakes": true,
                      "showland": true,
                      "subunitcolor": "white"
                    },
                    "hoverlabel": {
                      "align": "left"
                    },
                    "hovermode": "closest",
                    "mapbox": {
                      "style": "light"
                    },
                    "paper_bgcolor": "white",
                    "plot_bgcolor": "#E5ECF6",
                    "polar": {
                      "angularaxis": {
                        "gridcolor": "white",
                        "linecolor": "white",
                        "ticks": ""
                      },
                      "bgcolor": "#E5ECF6",
                      "radialaxis": {
                        "gridcolor": "white",
                        "linecolor": "white",
                        "ticks": ""
                      }
                    },
                    "scene": {
                      "xaxis": {
                        "backgroundcolor": "#E5ECF6",
                        "gridcolor": "white",
                        "gridwidth": 2,
                        "linecolor": "white",
                        "showbackground": true,
                        "ticks": "",
                        "zerolinecolor": "white"
                      },
                      "yaxis": {
                        "backgroundcolor": "#E5ECF6",
                        "gridcolor": "white",
                        "gridwidth": 2,
                        "linecolor": "white",
                        "showbackground": true,
                        "ticks": "",
                        "zerolinecolor": "white"
                      },
                      "zaxis": {
                        "backgroundcolor": "#E5ECF6",
                        "gridcolor": "white",
                        "gridwidth": 2,
                        "linecolor": "white",
                        "showbackground": true,
                        "ticks": "",
                        "zerolinecolor": "white"
                      }
                    },
                    "shapedefaults": {
                      "line": {
                        "color": "#2a3f5f"
                      }
                    },
                    "ternary": {
                      "aaxis": {
                        "gridcolor": "white",
                        "linecolor": "white",
                        "ticks": ""
                      },
                      "baxis": {
                        "gridcolor": "white",
                        "linecolor": "white",
                        "ticks": ""
                      },
                      "bgcolor": "#E5ECF6",
                      "caxis": {
                        "gridcolor": "white",
                        "linecolor": "white",
                        "ticks": ""
                      }
                    },
                    "title": {
                      "x": 0.05
                    },
                    "xaxis": {
                      "automargin": true,
                      "gridcolor": "white",
                      "linecolor": "white",
                      "ticks": "",
                      "title": {
                        "standoff": 15
                      },
                      "zerolinecolor": "white",
                      "zerolinewidth": 2
                    },
                    "yaxis": {
                      "automargin": true,
                      "gridcolor": "white",
                      "linecolor": "white",
                      "ticks": "",
                      "title": {
                        "standoff": 15
                      },
                      "zerolinecolor": "white",
                      "zerolinewidth": 2
                    }
                  }
                },
                "title": {
                  "text": "Optimal Policy"
                },
                "width": 1000,
                "xaxis": {
                  "constrain": "domain",
                  "side": "top"
                },
                "yaxis": {
                  "autorange": "reversed",
                  "scaleanchor": "x"
                }
              }
            }
          },
          "metadata": {},
          "output_type": "display_data"
        }
      ],
      "source": [
        "rewards_agents = []\n",
        "for i in range(NO_RUNS):\n",
        "    all_rewards_Q_learning,qvals = run_algorithms(\"Q_learning\")\n",
        "    mean_rewards = [sum(episode) for episode in all_rewards_Q_learning]\n",
        "    rewards_agents.append(mean_rewards)\n",
        "\n",
        "size = 6\n",
        "state_values = np.zeros((size, size))\n",
        "for state in itertools.product(range(size), range(size)):\n",
        "    state_values[state[0]][state[1]] = max(qvals[state[0]][state[1]][:])\n",
        "\n",
        "plt.figure()\n",
        "state_values[3,5] = 25\n",
        "plot_values(state_values)\n",
        "plt.show()\n",
        "actions = [[ACTIONS_NAMES[np.argmax(qvals[i][j][:])] for j in range(6)] for i in range(6)]\n",
        "actions[3][5] = '*'\n",
        "fig = go.Figure(data=go.Heatmap(\n",
        "    z = abs(state_values),\n",
        "    text = actions,\n",
        "    texttemplate = '%{text}',\n",
        "))\n",
        "fig.update_layout(P_LAYOUT, title=dict(text='Optimal Policy'))\n",
        "fig.update_xaxes(side='top', constrain='domain')\n",
        "fig.update_yaxes(autorange='reversed', scaleanchor='x')\n",
        "actions\n",
        "fig.show()"
      ]
    },
    {
      "cell_type": "code",
      "execution_count": 15,
      "metadata": {
        "colab": {
          "base_uri": "https://localhost:8080/",
          "height": 472
        },
        "id": "pLyNwlK3zdm1",
        "outputId": "eb3c1d1e-fd73-47af-d321-39c1e933cf77"
      },
      "outputs": [
        {
          "data": {
            "image/png": "[encoded data removed]",
            "text/plain": [
              "<Figure size 432x288 with 1 Axes>"
            ]
          },
          "metadata": {
            "needs_background": "light"
          },
          "output_type": "display_data"
        }
      ],
      "source": [
        "mean = [sum(x)/NO_RUNS for x in zip(*rewards_agents)]\n",
        "transposed_lists = np.array(rewards_agents).T\n",
        "std = [np.std(position) for position in transposed_lists]\n",
        "upper = np.array(mean) + 3*np.array(std)\n",
        "lower = np.array(mean) - 3*np.array(std)\n",
        "fig, ax = plt.subplots()\n",
        "ax.plot(mean, label=\"reward\")\n",
        "ax.fill_between(np.arange(len(mean)), lower ,upper , alpha=0.5, label=\"confidence\")\n",
        "ax.set_xlabel(\"Trial\")\n",
        "ax.set_ylabel(\"Reward\")\n",
        "ax.set_title(\"Reward with Confidence Bound 3 Std\")\n",
        "plt.legend()\n",
        "plt.show()"
      ]
    },
    {
      "cell_type": "code",
      "execution_count": 16,
      "metadata": {
        "colab": {
          "base_uri": "https://localhost:8080/",
          "height": 452
        },
        "id": "S30jug5-1zJe",
        "outputId": "ebed8ff8-09ad-4c9b-96a1-a968bb87c4f7"
      },
      "outputs": [
        {
          "data": {
            "image/png": "[encoded data removed]",
            "text/plain": [
              "<Figure size 432x288 with 2 Axes>"
            ]
          },
          "metadata": {
            "needs_background": "light"
          },
          "output_type": "display_data"
        }
      ],
      "source": [
        "import time\n",
        "from tqdm import trange\n",
        "import seaborn as sns\n",
        "import matplotlib.pyplot as plt\n",
        "env =   GridWorldEnv(size=6)\n",
        "observation,info,tree_locs = env.reset(seed=SEED)\n",
        "PI = PolicyIteration(env,0.9,1e-6)\n",
        "\n",
        "PI.fit()\n",
        "data = np.round(PI.get_state_values(), decimals=2)\n",
        "data\n",
        "ax = sns.heatmap(data, annot=True, fmt='.2f', cmap='viridis', cbar=True)\n",
        "ax.set_title('State Values')\n",
        "plt.show()"
      ]
    },
    {
      "cell_type": "code",
      "execution_count": 17,
      "metadata": {
        "colab": {
          "base_uri": "https://localhost:8080/",
          "height": 617
        },
        "id": "VogMhF602i0u",
        "outputId": "beb7ba9b-851d-4997-b679-119e274f80f7"
      },
      "outputs": [
        {
          "data": {
            "application/vnd.plotly.v1+json": {
              "config": {
                "plotlyServerURL": "https://plot.ly"
              },
              "data": [
                {
                  "text": [
                    [
                      "→",
                      "→",
                      "→",
                      "↓",
                      "→",
                      "↓"
                    ],
                    [
                      "↑",
                      "↑",
                      "→",
                      "→",
                      "→",
                      "↓"
                    ],
                    [
                      "→",
                      "→",
                      "→",
                      "↑",
                      "→",
                      "↓"
                    ],
                    [
                      "↑",
                      "↑",
                      "↓",
                      "→",
                      "→",
                      "*"
                    ],
                    [
                      "↑",
                      "→",
                      "→",
                      "→",
                      "→",
                      "↑"
                    ],
                    [
                      "→",
                      "→",
                      "→",
                      "→",
                      "→",
                      "↑"
                    ]
                  ],
                  "texttemplate": "%{text}",
                  "type": "heatmap",
                  "z": [
                    [
                      62.189794212854295,
                      71.52171118856297,
                      83.31621725061217,
                      97.05667278994844,
                      16.89914072107578,
                      150.1987753101261
                    ],
                    [
                      54.31231553627065,
                      48.43887284652385,
                      29.420908557073687,
                      111.23121177264468,
                      146.34484054367712,
                      171.75416186591278
                    ],
                    [
                      57.19506056353487,
                      65.83326442045576,
                      76.75099419121908,
                      89.47001605785238,
                      54.75900985284093,
                      198.99777531563527
                    ],
                    [
                      47.736153717146486,
                      48.48331252345216,
                      15.220899252665347,
                      31.4582476187403,
                      184.0234541264719,
                      202.9584745502224
                    ],
                    [
                      30.66062668030288,
                      19.779287246884522,
                      112.14082337815228,
                      146.28928577281093,
                      171.5702452492361,
                      199.2540112325266
                    ],
                    [
                      55.20955859685529,
                      79.48355914684677,
                      109.44291620351166,
                      129.08268609847158,
                      150.16025341682982,
                      174.34498531833273
                    ]
                  ]
                }
              ],
              "layout": {
                "autosize": false,
                "height": 600,
                "margin": {
                  "b": 50,
                  "l": 50,
                  "pad": 10,
                  "r": 50,
                  "t": 100
                },
                "template": {
                  "data": {
                    "bar": [
                      {
                        "error_x": {
                          "color": "#2a3f5f"
                        },
                        "error_y": {
                          "color": "#2a3f5f"
                        },
                        "marker": {
                          "line": {
                            "color": "#E5ECF6",
                            "width": 0.5
                          },
                          "pattern": {
                            "fillmode": "overlay",
                            "size": 10,
                            "solidity": 0.2
                          }
                        },
                        "type": "bar"
                      }
                    ],
                    "barpolar": [
                      {
                        "marker": {
                          "line": {
                            "color": "#E5ECF6",
                            "width": 0.5
                          },
                          "pattern": {
                            "fillmode": "overlay",
                            "size": 10,
                            "solidity": 0.2
                          }
                        },
                        "type": "barpolar"
                      }
                    ],
                    "carpet": [
                      {
                        "aaxis": {
                          "endlinecolor": "#2a3f5f",
                          "gridcolor": "white",
                          "linecolor": "white",
                          "minorgridcolor": "white",
                          "startlinecolor": "#2a3f5f"
                        },
                        "baxis": {
                          "endlinecolor": "#2a3f5f",
                          "gridcolor": "white",
                          "linecolor": "white",
                          "minorgridcolor": "white",
                          "startlinecolor": "#2a3f5f"
                        },
                        "type": "carpet"
                      }
                    ],
                    "choropleth": [
                      {
                        "colorbar": {
                          "outlinewidth": 0,
                          "ticks": ""
                        },
                        "type": "choropleth"
                      }
                    ],
                    "contour": [
                      {
                        "colorbar": {
                          "outlinewidth": 0,
                          "ticks": ""
                        },
                        "colorscale": [
                          [
                            0,
                            "#0d0887"
                          ],
                          [
                            0.1111111111111111,
                            "#46039f"
                          ],
                          [
                            0.2222222222222222,
                            "#7201a8"
                          ],
                          [
                            0.3333333333333333,
                            "#9c179e"
                          ],
                          [
                            0.4444444444444444,
                            "#bd3786"
                          ],
                          [
                            0.5555555555555556,
                            "#d8576b"
                          ],
                          [
                            0.6666666666666666,
                            "#ed7953"
                          ],
                          [
                            0.7777777777777778,
                            "#fb9f3a"
                          ],
                          [
                            0.8888888888888888,
                            "#fdca26"
                          ],
                          [
                            1,
                            "#f0f921"
                          ]
                        ],
                        "type": "contour"
                      }
                    ],
                    "contourcarpet": [
                      {
                        "colorbar": {
                          "outlinewidth": 0,
                          "ticks": ""
                        },
                        "type": "contourcarpet"
                      }
                    ],
                    "heatmap": [
                      {
                        "colorbar": {
                          "outlinewidth": 0,
                          "ticks": ""
                        },
                        "colorscale": [
                          [
                            0,
                            "#0d0887"
                          ],
                          [
                            0.1111111111111111,
                            "#46039f"
                          ],
                          [
                            0.2222222222222222,
                            "#7201a8"
                          ],
                          [
                            0.3333333333333333,
                            "#9c179e"
                          ],
                          [
                            0.4444444444444444,
                            "#bd3786"
                          ],
                          [
                            0.5555555555555556,
                            "#d8576b"
                          ],
                          [
                            0.6666666666666666,
                            "#ed7953"
                          ],
                          [
                            0.7777777777777778,
                            "#fb9f3a"
                          ],
                          [
                            0.8888888888888888,
                            "#fdca26"
                          ],
                          [
                            1,
                            "#f0f921"
                          ]
                        ],
                        "type": "heatmap"
                      }
                    ],
                    "heatmapgl": [
                      {
                        "colorbar": {
                          "outlinewidth": 0,
                          "ticks": ""
                        },
                        "colorscale": [
                          [
                            0,
                            "#0d0887"
                          ],
                          [
                            0.1111111111111111,
                            "#46039f"
                          ],
                          [
                            0.2222222222222222,
                            "#7201a8"
                          ],
                          [
                            0.3333333333333333,
                            "#9c179e"
                          ],
                          [
                            0.4444444444444444,
                            "#bd3786"
                          ],
                          [
                            0.5555555555555556,
                            "#d8576b"
                          ],
                          [
                            0.6666666666666666,
                            "#ed7953"
                          ],
                          [
                            0.7777777777777778,
                            "#fb9f3a"
                          ],
                          [
                            0.8888888888888888,
                            "#fdca26"
                          ],
                          [
                            1,
                            "#f0f921"
                          ]
                        ],
                        "type": "heatmapgl"
                      }
                    ],
                    "histogram": [
                      {
                        "marker": {
                          "pattern": {
                            "fillmode": "overlay",
                            "size": 10,
                            "solidity": 0.2
                          }
                        },
                        "type": "histogram"
                      }
                    ],
                    "histogram2d": [
                      {
                        "colorbar": {
                          "outlinewidth": 0,
                          "ticks": ""
                        },
                        "colorscale": [
                          [
                            0,
                            "#0d0887"
                          ],
                          [
                            0.1111111111111111,
                            "#46039f"
                          ],
                          [
                            0.2222222222222222,
                            "#7201a8"
                          ],
                          [
                            0.3333333333333333,
                            "#9c179e"
                          ],
                          [
                            0.4444444444444444,
                            "#bd3786"
                          ],
                          [
                            0.5555555555555556,
                            "#d8576b"
                          ],
                          [
                            0.6666666666666666,
                            "#ed7953"
                          ],
                          [
                            0.7777777777777778,
                            "#fb9f3a"
                          ],
                          [
                            0.8888888888888888,
                            "#fdca26"
                          ],
                          [
                            1,
                            "#f0f921"
                          ]
                        ],
                        "type": "histogram2d"
                      }
                    ],
                    "histogram2dcontour": [
                      {
                        "colorbar": {
                          "outlinewidth": 0,
                          "ticks": ""
                        },
                        "colorscale": [
                          [
                            0,
                            "#0d0887"
                          ],
                          [
                            0.1111111111111111,
                            "#46039f"
                          ],
                          [
                            0.2222222222222222,
                            "#7201a8"
                          ],
                          [
                            0.3333333333333333,
                            "#9c179e"
                          ],
                          [
                            0.4444444444444444,
                            "#bd3786"
                          ],
                          [
                            0.5555555555555556,
                            "#d8576b"
                          ],
                          [
                            0.6666666666666666,
                            "#ed7953"
                          ],
                          [
                            0.7777777777777778,
                            "#fb9f3a"
                          ],
                          [
                            0.8888888888888888,
                            "#fdca26"
                          ],
                          [
                            1,
                            "#f0f921"
                          ]
                        ],
                        "type": "histogram2dcontour"
                      }
                    ],
                    "mesh3d": [
                      {
                        "colorbar": {
                          "outlinewidth": 0,
                          "ticks": ""
                        },
                        "type": "mesh3d"
                      }
                    ],
                    "parcoords": [
                      {
                        "line": {
                          "colorbar": {
                            "outlinewidth": 0,
                            "ticks": ""
                          }
                        },
                        "type": "parcoords"
                      }
                    ],
                    "pie": [
                      {
                        "automargin": true,
                        "type": "pie"
                      }
                    ],
                    "scatter": [
                      {
                        "fillpattern": {
                          "fillmode": "overlay",
                          "size": 10,
                          "solidity": 0.2
                        },
                        "type": "scatter"
                      }
                    ],
                    "scatter3d": [
                      {
                        "line": {
                          "colorbar": {
                            "outlinewidth": 0,
                            "ticks": ""
                          }
                        },
                        "marker": {
                          "colorbar": {
                            "outlinewidth": 0,
                            "ticks": ""
                          }
                        },
                        "type": "scatter3d"
                      }
                    ],
                    "scattercarpet": [
                      {
                        "marker": {
                          "colorbar": {
                            "outlinewidth": 0,
                            "ticks": ""
                          }
                        },
                        "type": "scattercarpet"
                      }
                    ],
                    "scattergeo": [
                      {
                        "marker": {
                          "colorbar": {
                            "outlinewidth": 0,
                            "ticks": ""
                          }
                        },
                        "type": "scattergeo"
                      }
                    ],
                    "scattergl": [
                      {
                        "marker": {
                          "colorbar": {
                            "outlinewidth": 0,
                            "ticks": ""
                          }
                        },
                        "type": "scattergl"
                      }
                    ],
                    "scattermapbox": [
                      {
                        "marker": {
                          "colorbar": {
                            "outlinewidth": 0,
                            "ticks": ""
                          }
                        },
                        "type": "scattermapbox"
                      }
                    ],
                    "scatterpolar": [
                      {
                        "marker": {
                          "colorbar": {
                            "outlinewidth": 0,
                            "ticks": ""
                          }
                        },
                        "type": "scatterpolar"
                      }
                    ],
                    "scatterpolargl": [
                      {
                        "marker": {
                          "colorbar": {
                            "outlinewidth": 0,
                            "ticks": ""
                          }
                        },
                        "type": "scatterpolargl"
                      }
                    ],
                    "scatterternary": [
                      {
                        "marker": {
                          "colorbar": {
                            "outlinewidth": 0,
                            "ticks": ""
                          }
                        },
                        "type": "scatterternary"
                      }
                    ],
                    "surface": [
                      {
                        "colorbar": {
                          "outlinewidth": 0,
                          "ticks": ""
                        },
                        "colorscale": [
                          [
                            0,
                            "#0d0887"
                          ],
                          [
                            0.1111111111111111,
                            "#46039f"
                          ],
                          [
                            0.2222222222222222,
                            "#7201a8"
                          ],
                          [
                            0.3333333333333333,
                            "#9c179e"
                          ],
                          [
                            0.4444444444444444,
                            "#bd3786"
                          ],
                          [
                            0.5555555555555556,
                            "#d8576b"
                          ],
                          [
                            0.6666666666666666,
                            "#ed7953"
                          ],
                          [
                            0.7777777777777778,
                            "#fb9f3a"
                          ],
                          [
                            0.8888888888888888,
                            "#fdca26"
                          ],
                          [
                            1,
                            "#f0f921"
                          ]
                        ],
                        "type": "surface"
                      }
                    ],
                    "table": [
                      {
                        "cells": {
                          "fill": {
                            "color": "#EBF0F8"
                          },
                          "line": {
                            "color": "white"
                          }
                        },
                        "header": {
                          "fill": {
                            "color": "#C8D4E3"
                          },
                          "line": {
                            "color": "white"
                          }
                        },
                        "type": "table"
                      }
                    ]
                  },
                  "layout": {
                    "annotationdefaults": {
                      "arrowcolor": "#2a3f5f",
                      "arrowhead": 0,
                      "arrowwidth": 1
                    },
                    "autotypenumbers": "strict",
                    "coloraxis": {
                      "colorbar": {
                        "outlinewidth": 0,
                        "ticks": ""
                      }
                    },
                    "colorscale": {
                      "diverging": [
                        [
                          0,
                          "#8e0152"
                        ],
                        [
                          0.1,
                          "#c51b7d"
                        ],
                        [
                          0.2,
                          "#de77ae"
                        ],
                        [
                          0.3,
                          "#f1b6da"
                        ],
                        [
                          0.4,
                          "#fde0ef"
                        ],
                        [
                          0.5,
                          "#f7f7f7"
                        ],
                        [
                          0.6,
                          "#e6f5d0"
                        ],
                        [
                          0.7,
                          "#b8e186"
                        ],
                        [
                          0.8,
                          "#7fbc41"
                        ],
                        [
                          0.9,
                          "#4d9221"
                        ],
                        [
                          1,
                          "#276419"
                        ]
                      ],
                      "sequential": [
                        [
                          0,
                          "#0d0887"
                        ],
                        [
                          0.1111111111111111,
                          "#46039f"
                        ],
                        [
                          0.2222222222222222,
                          "#7201a8"
                        ],
                        [
                          0.3333333333333333,
                          "#9c179e"
                        ],
                        [
                          0.4444444444444444,
                          "#bd3786"
                        ],
                        [
                          0.5555555555555556,
                          "#d8576b"
                        ],
                        [
                          0.6666666666666666,
                          "#ed7953"
                        ],
                        [
                          0.7777777777777778,
                          "#fb9f3a"
                        ],
                        [
                          0.8888888888888888,
                          "#fdca26"
                        ],
                        [
                          1,
                          "#f0f921"
                        ]
                      ],
                      "sequentialminus": [
                        [
                          0,
                          "#0d0887"
                        ],
                        [
                          0.1111111111111111,
                          "#46039f"
                        ],
                        [
                          0.2222222222222222,
                          "#7201a8"
                        ],
                        [
                          0.3333333333333333,
                          "#9c179e"
                        ],
                        [
                          0.4444444444444444,
                          "#bd3786"
                        ],
                        [
                          0.5555555555555556,
                          "#d8576b"
                        ],
                        [
                          0.6666666666666666,
                          "#ed7953"
                        ],
                        [
                          0.7777777777777778,
                          "#fb9f3a"
                        ],
                        [
                          0.8888888888888888,
                          "#fdca26"
                        ],
                        [
                          1,
                          "#f0f921"
                        ]
                      ]
                    },
                    "colorway": [
                      "#636efa",
                      "#EF553B",
                      "#00cc96",
                      "#ab63fa",
                      "#FFA15A",
                      "#19d3f3",
                      "#FF6692",
                      "#B6E880",
                      "#FF97FF",
                      "#FECB52"
                    ],
                    "font": {
                      "color": "#2a3f5f"
                    },
                    "geo": {
                      "bgcolor": "white",
                      "lakecolor": "white",
                      "landcolor": "#E5ECF6",
                      "showlakes": true,
                      "showland": true,
                      "subunitcolor": "white"
                    },
                    "hoverlabel": {
                      "align": "left"
                    },
                    "hovermode": "closest",
                    "mapbox": {
                      "style": "light"
                    },
                    "paper_bgcolor": "white",
                    "plot_bgcolor": "#E5ECF6",
                    "polar": {
                      "angularaxis": {
                        "gridcolor": "white",
                        "linecolor": "white",
                        "ticks": ""
                      },
                      "bgcolor": "#E5ECF6",
                      "radialaxis": {
                        "gridcolor": "white",
                        "linecolor": "white",
                        "ticks": ""
                      }
                    },
                    "scene": {
                      "xaxis": {
                        "backgroundcolor": "#E5ECF6",
                        "gridcolor": "white",
                        "gridwidth": 2,
                        "linecolor": "white",
                        "showbackground": true,
                        "ticks": "",
                        "zerolinecolor": "white"
                      },
                      "yaxis": {
                        "backgroundcolor": "#E5ECF6",
                        "gridcolor": "white",
                        "gridwidth": 2,
                        "linecolor": "white",
                        "showbackground": true,
                        "ticks": "",
                        "zerolinecolor": "white"
                      },
                      "zaxis": {
                        "backgroundcolor": "#E5ECF6",
                        "gridcolor": "white",
                        "gridwidth": 2,
                        "linecolor": "white",
                        "showbackground": true,
                        "ticks": "",
                        "zerolinecolor": "white"
                      }
                    },
                    "shapedefaults": {
                      "line": {
                        "color": "#2a3f5f"
                      }
                    },
                    "ternary": {
                      "aaxis": {
                        "gridcolor": "white",
                        "linecolor": "white",
                        "ticks": ""
                      },
                      "baxis": {
                        "gridcolor": "white",
                        "linecolor": "white",
                        "ticks": ""
                      },
                      "bgcolor": "#E5ECF6",
                      "caxis": {
                        "gridcolor": "white",
                        "linecolor": "white",
                        "ticks": ""
                      }
                    },
                    "title": {
                      "x": 0.05
                    },
                    "xaxis": {
                      "automargin": true,
                      "gridcolor": "white",
                      "linecolor": "white",
                      "ticks": "",
                      "title": {
                        "standoff": 15
                      },
                      "zerolinecolor": "white",
                      "zerolinewidth": 2
                    },
                    "yaxis": {
                      "automargin": true,
                      "gridcolor": "white",
                      "linecolor": "white",
                      "ticks": "",
                      "title": {
                        "standoff": 15
                      },
                      "zerolinecolor": "white",
                      "zerolinewidth": 2
                    }
                  }
                },
                "title": {
                  "text": "Optimal Policy"
                },
                "width": 1000,
                "xaxis": {
                  "constrain": "domain",
                  "side": "top"
                },
                "yaxis": {
                  "autorange": "reversed",
                  "scaleanchor": "x"
                }
              }
            }
          },
          "metadata": {},
          "output_type": "display_data"
        }
      ],
      "source": [
        "\n",
        "actions = [[ACTIONS_NAMES[np.argmax(PI.get_q_values()[i][j][:])] for j in range(6)] for i in range(6)]\n",
        "actions[3][5] = '*'\n",
        "fig = go.Figure(data=go.Heatmap(\n",
        "    z = abs(PI.get_state_values()),\n",
        "    text = actions,\n",
        "    texttemplate = '%{text}',\n",
        "))\n",
        "fig.update_layout(P_LAYOUT, title=dict(text='Optimal Policy'))\n",
        "fig.update_xaxes(side='top', constrain='domain')\n",
        "fig.update_yaxes(autorange='reversed', scaleanchor='x')\n",
        "actions\n",
        "fig.show()"
      ]
    }
  ],
  "metadata": {
    "colab": {
      "provenance": []
    },
    "kernelspec": {
      "display_name": "Python 3",
      "name": "python3"
    },
    "language_info": {
      "name": "python"
    }
  },
  "nbformat": 4,
  "nbformat_minor": 0
}
